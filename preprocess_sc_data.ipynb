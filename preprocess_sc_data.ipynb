{
 "cells": [
  {
   "cell_type": "code",
   "execution_count": 1,
   "metadata": {},
   "outputs": [],
   "source": [
    "import requests\n",
    "import re\n",
    "import pandas as pd\n",
    "import os\n",
    "from datetime import date\n",
    "import datetime\n",
    "import json"
   ]
  },
  {
   "cell_type": "markdown",
   "metadata": {},
   "source": [
    "# Settings"
   ]
  },
  {
   "cell_type": "code",
   "execution_count": 2,
   "metadata": {},
   "outputs": [],
   "source": [
    "read_weather_from_file = False"
   ]
  },
  {
   "cell_type": "markdown",
   "metadata": {},
   "source": [
    "# Read the data"
   ]
  },
  {
   "cell_type": "code",
   "execution_count": 3,
   "metadata": {},
   "outputs": [],
   "source": [
    "df_sc = pd.read_csv(os.path.join(\"data\", \"sc_export.csv\"))"
   ]
  },
  {
   "cell_type": "markdown",
   "metadata": {},
   "source": [
    "# Parse timestamps"
   ]
  },
  {
   "cell_type": "code",
   "execution_count": 4,
   "metadata": {},
   "outputs": [],
   "source": [
    "#date,hour = zip(*df_sc['timestamp'].map(lambda x: x.split('T')))\n",
    "df_sc['timestamp'] = df_sc['timestamp'].map(lambda d:datetime.datetime.strptime(d,'%Y-%m-%dT%H:%M:%S'))"
   ]
  },
  {
   "cell_type": "code",
   "execution_count": 24,
   "metadata": {},
   "outputs": [],
   "source": [
    "df_sc['day'] = df_sc['timestamp'].map(date.weekday)\n",
    "df_sc['hour'] = pd.DatetimeIndex(df_sc['timestamp']).hour\n",
    "df_sc['date'] = pd.DatetimeIndex(df_sc['timestamp']).date\n",
    "df_sc['time'] = pd.DatetimeIndex(df_sc['timestamp']).hour + pd.DatetimeIndex(df_sc['timestamp']).minute/60 + pd.DatetimeIndex(df_sc['timestamp']).second/3600\n",
    "df_sc['weekend'] = [1 if d == 5 or d==6 else 0 for d in df_sc['day']]\n",
    "df_sc['yday'] = df_sc['date'].map(lambda x: x.timetuple().tm_yday)"
   ]
  },
  {
   "cell_type": "code",
   "execution_count": 25,
   "metadata": {},
   "outputs": [],
   "source": [
    "# get the current day of the year\n",
    "#doy = datetime.today().timetuple().tm_yday\n",
    "\n",
    "# \"day of year\" ranges for the northern hemisphere\n",
    "spring = range(80, 172)\n",
    "summer = range(172, 264)\n",
    "fall = range(264, 355)\n",
    "# winter = everything else\n",
    "\n",
    "def get_season(doy):\n",
    "    if doy in spring:\n",
    "        season = 'spring'\n",
    "    elif doy in summer:\n",
    "        season = 'summer'\n",
    "    elif doy in fall:\n",
    "        season = 'fall'\n",
    "    else:\n",
    "        season = 'winter'\n",
    "    return season\n",
    "\n",
    "df_sc['season'] = [get_season(x) for x in df_sc['yday']]"
   ]
  },
  {
   "cell_type": "code",
   "execution_count": 7,
   "metadata": {},
   "outputs": [],
   "source": [
    "#df_sc['name'] = [str(lat)+\",\"+str(lon) for lat, lon in zip(df_sc['lat'], df_sc['lon'])]"
   ]
  },
  {
   "cell_type": "markdown",
   "metadata": {},
   "source": [
    "# Select relevant columns"
   ]
  },
  {
   "cell_type": "code",
   "execution_count": 27,
   "metadata": {},
   "outputs": [],
   "source": [
    "selected = [\"sensor_id\", \n",
    "            \"sensor_type\", \n",
    "            \"location\", \n",
    "            \"lat\", \"lon\", \n",
    "            \"timestamp\", \n",
    "            \"date\", \n",
    "            \"time\", \"hour\", \n",
    "            \"day\", \"weekend\", \n",
    "            \"season\",\n",
    "            \"P1\", \"P2\"]\n",
    "\n",
    "df = df_sc[selected]"
   ]
  },
  {
   "cell_type": "markdown",
   "metadata": {},
   "source": [
    "# Get weather data"
   ]
  },
  {
   "cell_type": "code",
   "execution_count": 9,
   "metadata": {},
   "outputs": [],
   "source": [
    "weather_groups = {'Clear': 'dry',\n",
    "                  'Partially cloudy': 'dry',\n",
    "                  'Rain, Partially cloudy': 'wet',\n",
    "                  'Rain': 'wet',\n",
    "                  'Rain, Overcast': 'wet',\n",
    "                  'Overcast': 'wet',\n",
    "                  'Snow, Rain, Partially cloudy': 'wet'}"
   ]
  },
  {
   "cell_type": "code",
   "execution_count": 10,
   "metadata": {},
   "outputs": [
    {
     "name": "stdout",
     "output_type": "stream",
     "text": [
      "2021-11-29 2022-09-02 46.042 14.592\n",
      "Something is wrong...\n",
      "2021-11-29 2022-09-02 46.096 14.47\n",
      "Something is wrong...\n"
     ]
    },
    {
     "ename": "AttributeError",
     "evalue": "'int' object has no attribute 'to_csv'",
     "output_type": "error",
     "traceback": [
      "\u001b[1;31m---------------------------------------------------------------------------\u001b[0m",
      "\u001b[1;31mAttributeError\u001b[0m                            Traceback (most recent call last)",
      "\u001b[1;32m<ipython-input-10-b65a8befb543>\u001b[0m in \u001b[0;36m<module>\u001b[1;34m\u001b[0m\n\u001b[0;32m     24\u001b[0m             \u001b[0mprint\u001b[0m\u001b[1;33m(\u001b[0m\u001b[1;34m\"Something is wrong...\"\u001b[0m\u001b[1;33m)\u001b[0m\u001b[1;33m\u001b[0m\u001b[1;33m\u001b[0m\u001b[0m\n\u001b[0;32m     25\u001b[0m \u001b[1;33m\u001b[0m\u001b[0m\n\u001b[1;32m---> 26\u001b[1;33m     \u001b[0mdf_weather\u001b[0m\u001b[1;33m.\u001b[0m\u001b[0mto_csv\u001b[0m\u001b[1;33m(\u001b[0m\u001b[0mos\u001b[0m\u001b[1;33m.\u001b[0m\u001b[0mpath\u001b[0m\u001b[1;33m.\u001b[0m\u001b[0mjoin\u001b[0m\u001b[1;33m(\u001b[0m\u001b[1;34m\"data\"\u001b[0m\u001b[1;33m,\u001b[0m \u001b[1;34m\"weather.csv\"\u001b[0m\u001b[1;33m)\u001b[0m\u001b[1;33m,\u001b[0m \u001b[0mindex\u001b[0m\u001b[1;33m=\u001b[0m\u001b[1;32mFalse\u001b[0m\u001b[1;33m)\u001b[0m\u001b[1;33m\u001b[0m\u001b[1;33m\u001b[0m\u001b[0m\n\u001b[0m\u001b[0;32m     27\u001b[0m \u001b[1;32melse\u001b[0m\u001b[1;33m:\u001b[0m\u001b[1;33m\u001b[0m\u001b[1;33m\u001b[0m\u001b[0m\n\u001b[0;32m     28\u001b[0m     \u001b[0mdf_weather\u001b[0m \u001b[1;33m=\u001b[0m \u001b[0mpd\u001b[0m\u001b[1;33m.\u001b[0m\u001b[0mread_csv\u001b[0m\u001b[1;33m(\u001b[0m\u001b[0mos\u001b[0m\u001b[1;33m.\u001b[0m\u001b[0mpath\u001b[0m\u001b[1;33m.\u001b[0m\u001b[0mjoin\u001b[0m\u001b[1;33m(\u001b[0m\u001b[1;34m\"data\"\u001b[0m\u001b[1;33m,\u001b[0m \u001b[1;34m\"weather.csv\"\u001b[0m\u001b[1;33m)\u001b[0m\u001b[1;33m)\u001b[0m\u001b[1;33m\u001b[0m\u001b[1;33m\u001b[0m\u001b[0m\n",
      "\u001b[1;31mAttributeError\u001b[0m: 'int' object has no attribute 'to_csv'"
     ]
    }
   ],
   "source": [
    "if not read_weather_from_file:\n",
    "    with open('api_keys.json') as f:\n",
    "        API_KEY = json.loads(f.read())['weather']\n",
    "\n",
    "    lat_lon_s_id = set(zip(df_sc.lat, df_sc.lon, df_sc.sensor_id))\n",
    "    days = df_sc.date.unique()\n",
    "\n",
    "    df_weather = -1\n",
    "\n",
    "    for lat,lon,sensor_id in lat_lon_s_id:\n",
    "        min_day = min(days)\n",
    "        max_day = max(days)\n",
    "        print(min_day, max_day, lat, lon)\n",
    "        try:\n",
    "            url = f\"https://weather.visualcrossing.com/VisualCrossingWebServices/rest/services/timeline/{lat}%2C{lon}/{min_day}/{max_day}?unitGroup=metric&include=days&key={API_KEY}&contentType=csv\"\n",
    "\n",
    "            df2 = pd.read_csv(url)\n",
    "            df2['sensor_id'] = sensor_id\n",
    "            if type(df_weather) == int:\n",
    "                df_weather = df2\n",
    "            else:\n",
    "                df_weather = pd.concat([df_weather, df2],ignore_index=True)\n",
    "        except:\n",
    "            print(\"Something is wrong...\")\n",
    "\n",
    "    df_weather.to_csv(os.path.join(\"data\", \"weather.csv\"), index=False)\n",
    "else:\n",
    "    df_weather = pd.read_csv(os.path.join(\"data\", \"weather.csv\"))\n"
   ]
  },
  {
   "cell_type": "code",
   "execution_count": 11,
   "metadata": {},
   "outputs": [
    {
     "ename": "TypeError",
     "evalue": "'int' object is not subscriptable",
     "output_type": "error",
     "traceback": [
      "\u001b[1;31m---------------------------------------------------------------------------\u001b[0m",
      "\u001b[1;31mTypeError\u001b[0m                                 Traceback (most recent call last)",
      "\u001b[1;32m<ipython-input-11-1bd1e9e75318>\u001b[0m in \u001b[0;36m<module>\u001b[1;34m\u001b[0m\n\u001b[1;32m----> 1\u001b[1;33m \u001b[0mdf_weather\u001b[0m\u001b[1;33m[\u001b[0m\u001b[1;34m'weather'\u001b[0m\u001b[1;33m]\u001b[0m \u001b[1;33m=\u001b[0m \u001b[1;33m[\u001b[0m\u001b[0mweather_groups\u001b[0m\u001b[1;33m[\u001b[0m\u001b[0mx\u001b[0m\u001b[1;33m]\u001b[0m \u001b[1;32mfor\u001b[0m \u001b[0mx\u001b[0m \u001b[1;32min\u001b[0m \u001b[0mdf_weather\u001b[0m\u001b[1;33m[\u001b[0m\u001b[1;34m\"conditions\"\u001b[0m\u001b[1;33m]\u001b[0m\u001b[1;33m]\u001b[0m\u001b[1;33m\u001b[0m\u001b[1;33m\u001b[0m\u001b[0m\n\u001b[0m",
      "\u001b[1;31mTypeError\u001b[0m: 'int' object is not subscriptable"
     ]
    }
   ],
   "source": [
    "df_weather['weather'] = [weather_groups[x] for x in df_weather[\"conditions\"]]"
   ]
  },
  {
   "cell_type": "code",
   "execution_count": 12,
   "metadata": {},
   "outputs": [
    {
     "ename": "AttributeError",
     "evalue": "'int' object has no attribute 'rename'",
     "output_type": "error",
     "traceback": [
      "\u001b[1;31m---------------------------------------------------------------------------\u001b[0m",
      "\u001b[1;31mAttributeError\u001b[0m                            Traceback (most recent call last)",
      "\u001b[1;32m<ipython-input-12-d6989d4a4455>\u001b[0m in \u001b[0;36m<module>\u001b[1;34m\u001b[0m\n\u001b[1;32m----> 1\u001b[1;33m \u001b[0mdf_weather\u001b[0m\u001b[1;33m.\u001b[0m\u001b[0mrename\u001b[0m\u001b[1;33m(\u001b[0m\u001b[0mcolumns\u001b[0m\u001b[1;33m=\u001b[0m\u001b[1;33m{\u001b[0m\u001b[1;34m\"datetime\"\u001b[0m\u001b[1;33m:\u001b[0m \u001b[1;34m\"date\"\u001b[0m\u001b[1;33m}\u001b[0m\u001b[1;33m,\u001b[0m \u001b[0minplace\u001b[0m\u001b[1;33m=\u001b[0m\u001b[1;32mTrue\u001b[0m\u001b[1;33m)\u001b[0m\u001b[1;33m\u001b[0m\u001b[1;33m\u001b[0m\u001b[0m\n\u001b[0m",
      "\u001b[1;31mAttributeError\u001b[0m: 'int' object has no attribute 'rename'"
     ]
    }
   ],
   "source": [
    "df_weather.rename(columns={\"datetime\": \"date\"}, inplace=True)"
   ]
  },
  {
   "cell_type": "code",
   "execution_count": 13,
   "metadata": {},
   "outputs": [
    {
     "ename": "TypeError",
     "evalue": "'int' object is not subscriptable",
     "output_type": "error",
     "traceback": [
      "\u001b[1;31m---------------------------------------------------------------------------\u001b[0m",
      "\u001b[1;31mTypeError\u001b[0m                                 Traceback (most recent call last)",
      "\u001b[1;32m<ipython-input-13-d9eaf643b11d>\u001b[0m in \u001b[0;36m<module>\u001b[1;34m\u001b[0m\n\u001b[1;32m----> 1\u001b[1;33m \u001b[0mdf_weather\u001b[0m\u001b[1;33m[\u001b[0m\u001b[1;34m'date'\u001b[0m\u001b[1;33m]\u001b[0m \u001b[1;33m=\u001b[0m \u001b[0mpd\u001b[0m\u001b[1;33m.\u001b[0m\u001b[0mDatetimeIndex\u001b[0m\u001b[1;33m(\u001b[0m\u001b[0mdf_weather\u001b[0m\u001b[1;33m[\u001b[0m\u001b[1;34m'date'\u001b[0m\u001b[1;33m]\u001b[0m\u001b[1;33m)\u001b[0m\u001b[1;33m.\u001b[0m\u001b[0mdate\u001b[0m\u001b[1;33m\u001b[0m\u001b[1;33m\u001b[0m\u001b[0m\n\u001b[0m",
      "\u001b[1;31mTypeError\u001b[0m: 'int' object is not subscriptable"
     ]
    }
   ],
   "source": [
    "df_weather['date'] = pd.DatetimeIndex(df_weather['date']).date"
   ]
  },
  {
   "cell_type": "code",
   "execution_count": 14,
   "metadata": {},
   "outputs": [],
   "source": [
    "selected = [\"sensor_id\",\"date\", \"temp\", \"tempmax\", \"tempmin\", \"conditions\", \"weather\"]"
   ]
  },
  {
   "cell_type": "code",
   "execution_count": 15,
   "metadata": {},
   "outputs": [
    {
     "ename": "TypeError",
     "evalue": "'int' object is not subscriptable",
     "output_type": "error",
     "traceback": [
      "\u001b[1;31m---------------------------------------------------------------------------\u001b[0m",
      "\u001b[1;31mTypeError\u001b[0m                                 Traceback (most recent call last)",
      "\u001b[1;32m<ipython-input-15-86508059ddb0>\u001b[0m in \u001b[0;36m<module>\u001b[1;34m\u001b[0m\n\u001b[1;32m----> 1\u001b[1;33m \u001b[0mdf_weather\u001b[0m \u001b[1;33m=\u001b[0m \u001b[0mdf_weather\u001b[0m\u001b[1;33m[\u001b[0m\u001b[0mselected\u001b[0m\u001b[1;33m]\u001b[0m\u001b[1;33m\u001b[0m\u001b[1;33m\u001b[0m\u001b[0m\n\u001b[0m",
      "\u001b[1;31mTypeError\u001b[0m: 'int' object is not subscriptable"
     ]
    }
   ],
   "source": [
    "df_weather = df_weather[selected]"
   ]
  },
  {
   "cell_type": "code",
   "execution_count": 28,
   "metadata": {},
   "outputs": [],
   "source": [
    "if type(df_weather) == int:\n",
    "    df_weather = pd.DataFrame(columns=selected)"
   ]
  },
  {
   "cell_type": "markdown",
   "metadata": {},
   "source": [
    "# Add weather to sensor data"
   ]
  },
  {
   "cell_type": "code",
   "execution_count": 29,
   "metadata": {},
   "outputs": [],
   "source": [
    "df = pd.merge(df, df_weather, how='left', on=['sensor_id', 'date'])"
   ]
  },
  {
   "cell_type": "code",
   "execution_count": 30,
   "metadata": {},
   "outputs": [],
   "source": [
    "df.to_csv(os.path.join(\"data\", \"sc_weather.csv\"), index=False)"
   ]
  },
  {
   "cell_type": "code",
   "execution_count": 31,
   "metadata": {},
   "outputs": [
    {
     "data": {
      "text/html": [
       "<div>\n",
       "<style scoped>\n",
       "    .dataframe tbody tr th:only-of-type {\n",
       "        vertical-align: middle;\n",
       "    }\n",
       "\n",
       "    .dataframe tbody tr th {\n",
       "        vertical-align: top;\n",
       "    }\n",
       "\n",
       "    .dataframe thead th {\n",
       "        text-align: right;\n",
       "    }\n",
       "</style>\n",
       "<table border=\"1\" class=\"dataframe\">\n",
       "  <thead>\n",
       "    <tr style=\"text-align: right;\">\n",
       "      <th></th>\n",
       "      <th>sensor_id</th>\n",
       "      <th>sensor_type</th>\n",
       "      <th>location</th>\n",
       "      <th>lat</th>\n",
       "      <th>lon</th>\n",
       "      <th>timestamp</th>\n",
       "      <th>date</th>\n",
       "      <th>time</th>\n",
       "      <th>hour</th>\n",
       "      <th>day</th>\n",
       "      <th>weekend</th>\n",
       "      <th>season</th>\n",
       "      <th>P1</th>\n",
       "      <th>P2</th>\n",
       "      <th>temp</th>\n",
       "      <th>tempmax</th>\n",
       "      <th>tempmin</th>\n",
       "      <th>conditions</th>\n",
       "      <th>weather</th>\n",
       "    </tr>\n",
       "  </thead>\n",
       "  <tbody>\n",
       "    <tr>\n",
       "      <th>0</th>\n",
       "      <td>67867</td>\n",
       "      <td>SDS011</td>\n",
       "      <td>54672</td>\n",
       "      <td>46.096</td>\n",
       "      <td>14.47</td>\n",
       "      <td>2021-11-29 13:26:10</td>\n",
       "      <td>2021-11-29</td>\n",
       "      <td>13.436111</td>\n",
       "      <td>13</td>\n",
       "      <td>0</td>\n",
       "      <td>0</td>\n",
       "      <td>fall</td>\n",
       "      <td>8.13</td>\n",
       "      <td>6.63</td>\n",
       "      <td>NaN</td>\n",
       "      <td>NaN</td>\n",
       "      <td>NaN</td>\n",
       "      <td>NaN</td>\n",
       "      <td>NaN</td>\n",
       "    </tr>\n",
       "    <tr>\n",
       "      <th>1</th>\n",
       "      <td>67867</td>\n",
       "      <td>SDS011</td>\n",
       "      <td>54672</td>\n",
       "      <td>46.096</td>\n",
       "      <td>14.47</td>\n",
       "      <td>2021-11-29 13:28:35</td>\n",
       "      <td>2021-11-29</td>\n",
       "      <td>13.476389</td>\n",
       "      <td>13</td>\n",
       "      <td>0</td>\n",
       "      <td>0</td>\n",
       "      <td>fall</td>\n",
       "      <td>10.68</td>\n",
       "      <td>6.80</td>\n",
       "      <td>NaN</td>\n",
       "      <td>NaN</td>\n",
       "      <td>NaN</td>\n",
       "      <td>NaN</td>\n",
       "      <td>NaN</td>\n",
       "    </tr>\n",
       "    <tr>\n",
       "      <th>2</th>\n",
       "      <td>67867</td>\n",
       "      <td>SDS011</td>\n",
       "      <td>54672</td>\n",
       "      <td>46.096</td>\n",
       "      <td>14.47</td>\n",
       "      <td>2021-11-29 13:31:00</td>\n",
       "      <td>2021-11-29</td>\n",
       "      <td>13.516667</td>\n",
       "      <td>13</td>\n",
       "      <td>0</td>\n",
       "      <td>0</td>\n",
       "      <td>fall</td>\n",
       "      <td>8.80</td>\n",
       "      <td>6.70</td>\n",
       "      <td>NaN</td>\n",
       "      <td>NaN</td>\n",
       "      <td>NaN</td>\n",
       "      <td>NaN</td>\n",
       "      <td>NaN</td>\n",
       "    </tr>\n",
       "    <tr>\n",
       "      <th>3</th>\n",
       "      <td>67867</td>\n",
       "      <td>SDS011</td>\n",
       "      <td>54672</td>\n",
       "      <td>46.096</td>\n",
       "      <td>14.47</td>\n",
       "      <td>2021-11-29 13:33:26</td>\n",
       "      <td>2021-11-29</td>\n",
       "      <td>13.557222</td>\n",
       "      <td>13</td>\n",
       "      <td>0</td>\n",
       "      <td>0</td>\n",
       "      <td>fall</td>\n",
       "      <td>9.18</td>\n",
       "      <td>6.57</td>\n",
       "      <td>NaN</td>\n",
       "      <td>NaN</td>\n",
       "      <td>NaN</td>\n",
       "      <td>NaN</td>\n",
       "      <td>NaN</td>\n",
       "    </tr>\n",
       "    <tr>\n",
       "      <th>4</th>\n",
       "      <td>67867</td>\n",
       "      <td>SDS011</td>\n",
       "      <td>54672</td>\n",
       "      <td>46.096</td>\n",
       "      <td>14.47</td>\n",
       "      <td>2021-11-29 13:35:51</td>\n",
       "      <td>2021-11-29</td>\n",
       "      <td>13.597500</td>\n",
       "      <td>13</td>\n",
       "      <td>0</td>\n",
       "      <td>0</td>\n",
       "      <td>fall</td>\n",
       "      <td>10.43</td>\n",
       "      <td>7.40</td>\n",
       "      <td>NaN</td>\n",
       "      <td>NaN</td>\n",
       "      <td>NaN</td>\n",
       "      <td>NaN</td>\n",
       "      <td>NaN</td>\n",
       "    </tr>\n",
       "    <tr>\n",
       "      <th>...</th>\n",
       "      <td>...</td>\n",
       "      <td>...</td>\n",
       "      <td>...</td>\n",
       "      <td>...</td>\n",
       "      <td>...</td>\n",
       "      <td>...</td>\n",
       "      <td>...</td>\n",
       "      <td>...</td>\n",
       "      <td>...</td>\n",
       "      <td>...</td>\n",
       "      <td>...</td>\n",
       "      <td>...</td>\n",
       "      <td>...</td>\n",
       "      <td>...</td>\n",
       "      <td>...</td>\n",
       "      <td>...</td>\n",
       "      <td>...</td>\n",
       "      <td>...</td>\n",
       "      <td>...</td>\n",
       "    </tr>\n",
       "    <tr>\n",
       "      <th>151471</th>\n",
       "      <td>67867</td>\n",
       "      <td>SDS011</td>\n",
       "      <td>54672</td>\n",
       "      <td>46.096</td>\n",
       "      <td>14.47</td>\n",
       "      <td>2022-09-02 23:30:39</td>\n",
       "      <td>2022-09-02</td>\n",
       "      <td>23.510833</td>\n",
       "      <td>23</td>\n",
       "      <td>4</td>\n",
       "      <td>0</td>\n",
       "      <td>summer</td>\n",
       "      <td>5.68</td>\n",
       "      <td>3.28</td>\n",
       "      <td>NaN</td>\n",
       "      <td>NaN</td>\n",
       "      <td>NaN</td>\n",
       "      <td>NaN</td>\n",
       "      <td>NaN</td>\n",
       "    </tr>\n",
       "    <tr>\n",
       "      <th>151472</th>\n",
       "      <td>67867</td>\n",
       "      <td>SDS011</td>\n",
       "      <td>54672</td>\n",
       "      <td>46.096</td>\n",
       "      <td>14.47</td>\n",
       "      <td>2022-09-02 23:41:20</td>\n",
       "      <td>2022-09-02</td>\n",
       "      <td>23.688889</td>\n",
       "      <td>23</td>\n",
       "      <td>4</td>\n",
       "      <td>0</td>\n",
       "      <td>summer</td>\n",
       "      <td>11.05</td>\n",
       "      <td>3.75</td>\n",
       "      <td>NaN</td>\n",
       "      <td>NaN</td>\n",
       "      <td>NaN</td>\n",
       "      <td>NaN</td>\n",
       "      <td>NaN</td>\n",
       "    </tr>\n",
       "    <tr>\n",
       "      <th>151473</th>\n",
       "      <td>67867</td>\n",
       "      <td>SDS011</td>\n",
       "      <td>54672</td>\n",
       "      <td>46.096</td>\n",
       "      <td>14.47</td>\n",
       "      <td>2022-09-02 23:43:47</td>\n",
       "      <td>2022-09-02</td>\n",
       "      <td>23.729722</td>\n",
       "      <td>23</td>\n",
       "      <td>4</td>\n",
       "      <td>0</td>\n",
       "      <td>summer</td>\n",
       "      <td>7.30</td>\n",
       "      <td>3.47</td>\n",
       "      <td>NaN</td>\n",
       "      <td>NaN</td>\n",
       "      <td>NaN</td>\n",
       "      <td>NaN</td>\n",
       "      <td>NaN</td>\n",
       "    </tr>\n",
       "    <tr>\n",
       "      <th>151474</th>\n",
       "      <td>67867</td>\n",
       "      <td>SDS011</td>\n",
       "      <td>54672</td>\n",
       "      <td>46.096</td>\n",
       "      <td>14.47</td>\n",
       "      <td>2022-09-02 23:54:50</td>\n",
       "      <td>2022-09-02</td>\n",
       "      <td>23.913889</td>\n",
       "      <td>23</td>\n",
       "      <td>4</td>\n",
       "      <td>0</td>\n",
       "      <td>summer</td>\n",
       "      <td>19.00</td>\n",
       "      <td>8.38</td>\n",
       "      <td>NaN</td>\n",
       "      <td>NaN</td>\n",
       "      <td>NaN</td>\n",
       "      <td>NaN</td>\n",
       "      <td>NaN</td>\n",
       "    </tr>\n",
       "    <tr>\n",
       "      <th>151475</th>\n",
       "      <td>67867</td>\n",
       "      <td>SDS011</td>\n",
       "      <td>54672</td>\n",
       "      <td>46.096</td>\n",
       "      <td>14.47</td>\n",
       "      <td>2022-09-02 23:57:34</td>\n",
       "      <td>2022-09-02</td>\n",
       "      <td>23.959444</td>\n",
       "      <td>23</td>\n",
       "      <td>4</td>\n",
       "      <td>0</td>\n",
       "      <td>summer</td>\n",
       "      <td>23.13</td>\n",
       "      <td>11.65</td>\n",
       "      <td>NaN</td>\n",
       "      <td>NaN</td>\n",
       "      <td>NaN</td>\n",
       "      <td>NaN</td>\n",
       "      <td>NaN</td>\n",
       "    </tr>\n",
       "  </tbody>\n",
       "</table>\n",
       "<p>151476 rows × 19 columns</p>\n",
       "</div>"
      ],
      "text/plain": [
       "        sensor_id sensor_type  location     lat    lon           timestamp  \\\n",
       "0           67867      SDS011     54672  46.096  14.47 2021-11-29 13:26:10   \n",
       "1           67867      SDS011     54672  46.096  14.47 2021-11-29 13:28:35   \n",
       "2           67867      SDS011     54672  46.096  14.47 2021-11-29 13:31:00   \n",
       "3           67867      SDS011     54672  46.096  14.47 2021-11-29 13:33:26   \n",
       "4           67867      SDS011     54672  46.096  14.47 2021-11-29 13:35:51   \n",
       "...           ...         ...       ...     ...    ...                 ...   \n",
       "151471      67867      SDS011     54672  46.096  14.47 2022-09-02 23:30:39   \n",
       "151472      67867      SDS011     54672  46.096  14.47 2022-09-02 23:41:20   \n",
       "151473      67867      SDS011     54672  46.096  14.47 2022-09-02 23:43:47   \n",
       "151474      67867      SDS011     54672  46.096  14.47 2022-09-02 23:54:50   \n",
       "151475      67867      SDS011     54672  46.096  14.47 2022-09-02 23:57:34   \n",
       "\n",
       "              date       time  hour  day  weekend  season     P1     P2 temp  \\\n",
       "0       2021-11-29  13.436111    13    0        0    fall   8.13   6.63  NaN   \n",
       "1       2021-11-29  13.476389    13    0        0    fall  10.68   6.80  NaN   \n",
       "2       2021-11-29  13.516667    13    0        0    fall   8.80   6.70  NaN   \n",
       "3       2021-11-29  13.557222    13    0        0    fall   9.18   6.57  NaN   \n",
       "4       2021-11-29  13.597500    13    0        0    fall  10.43   7.40  NaN   \n",
       "...            ...        ...   ...  ...      ...     ...    ...    ...  ...   \n",
       "151471  2022-09-02  23.510833    23    4        0  summer   5.68   3.28  NaN   \n",
       "151472  2022-09-02  23.688889    23    4        0  summer  11.05   3.75  NaN   \n",
       "151473  2022-09-02  23.729722    23    4        0  summer   7.30   3.47  NaN   \n",
       "151474  2022-09-02  23.913889    23    4        0  summer  19.00   8.38  NaN   \n",
       "151475  2022-09-02  23.959444    23    4        0  summer  23.13  11.65  NaN   \n",
       "\n",
       "       tempmax tempmin conditions weather  \n",
       "0          NaN     NaN        NaN     NaN  \n",
       "1          NaN     NaN        NaN     NaN  \n",
       "2          NaN     NaN        NaN     NaN  \n",
       "3          NaN     NaN        NaN     NaN  \n",
       "4          NaN     NaN        NaN     NaN  \n",
       "...        ...     ...        ...     ...  \n",
       "151471     NaN     NaN        NaN     NaN  \n",
       "151472     NaN     NaN        NaN     NaN  \n",
       "151473     NaN     NaN        NaN     NaN  \n",
       "151474     NaN     NaN        NaN     NaN  \n",
       "151475     NaN     NaN        NaN     NaN  \n",
       "\n",
       "[151476 rows x 19 columns]"
      ]
     },
     "execution_count": 31,
     "metadata": {},
     "output_type": "execute_result"
    }
   ],
   "source": [
    "df"
   ]
  },
  {
   "cell_type": "code",
   "execution_count": null,
   "metadata": {},
   "outputs": [],
   "source": []
  }
 ],
 "metadata": {
  "kernelspec": {
   "display_name": "Python 3",
   "language": "python",
   "name": "python3"
  },
  "language_info": {
   "codemirror_mode": {
    "name": "ipython",
    "version": 3
   },
   "file_extension": ".py",
   "mimetype": "text/x-python",
   "name": "python",
   "nbconvert_exporter": "python",
   "pygments_lexer": "ipython3",
   "version": "3.7.3"
  }
 },
 "nbformat": 4,
 "nbformat_minor": 2
}
