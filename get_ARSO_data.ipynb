{
 "cells": [
  {
   "cell_type": "code",
   "execution_count": 65,
   "metadata": {},
   "outputs": [],
   "source": [
    "import requests\n",
    "import re\n",
    "import pandas as pd\n",
    "import os\n",
    "import xml.etree.ElementTree as ET\n",
    "import requests\n",
    "import time\n",
    "\n",
    "import datetime"
   ]
  },
  {
   "cell_type": "code",
   "execution_count": 66,
   "metadata": {},
   "outputs": [],
   "source": [
    "# https://www.arso.gov.si/zrak/kakovost%20zraka/podatki/kakovost_zraka_xml.html"
   ]
  },
  {
   "cell_type": "code",
   "execution_count": 67,
   "metadata": {},
   "outputs": [],
   "source": [
    "url_daily = \"http://www.arso.gov.si/xml/zrak/ones_zrak_dnevni_podatki_zadnji.xml\"\n",
    "url_hourly = \"http://www.arso.gov.si/xml/zrak/ones_zrak_urni_podatki_zadnji.xml\""
   ]
  },
  {
   "cell_type": "code",
   "execution_count": 74,
   "metadata": {},
   "outputs": [],
   "source": [
    "data_type = \"daily\""
   ]
  },
  {
   "cell_type": "code",
   "execution_count": 75,
   "metadata": {},
   "outputs": [],
   "source": [
    "if data_type == \"daily\":\n",
    "    url = url_daily\n",
    "else:\n",
    "    url = url_hourly"
   ]
  },
  {
   "cell_type": "markdown",
   "metadata": {},
   "source": [
    "### Get data"
   ]
  },
  {
   "cell_type": "code",
   "execution_count": 76,
   "metadata": {},
   "outputs": [],
   "source": [
    "try:\n",
    "    timestamp = str(datetime.datetime.now())\n",
    "    r = requests.get(url)\n",
    "    data = r.text\n",
    "    #file = minidom.parse('models.xml')\n",
    "except:\n",
    "    print(f\"Something went wrong.\")"
   ]
  },
  {
   "cell_type": "code",
   "execution_count": 77,
   "metadata": {},
   "outputs": [],
   "source": [
    "root = ET.fromstring(data)"
   ]
  },
  {
   "cell_type": "code",
   "execution_count": 78,
   "metadata": {},
   "outputs": [],
   "source": [
    "data = []\n",
    "\n",
    "for child in root:\n",
    "    if child.tag == 'postaja':        \n",
    "        d = {'timestamp':timestamp}        \n",
    "        for c in list(child):\n",
    "            d[c.tag] = c.text                  \n",
    "        data.append(d)\n",
    "\n",
    "        \n",
    "df = pd.DataFrame(data)"
   ]
  },
  {
   "cell_type": "code",
   "execution_count": 79,
   "metadata": {},
   "outputs": [],
   "source": [
    "try:\n",
    "    f = open(f'ARSO_{data_type}.csv') # check if the file exists by reading it\n",
    "    f.close()\n",
    "    df.to_csv(f'ARSO_{data_type}.csv', mode='a', index=False, header=False)\n",
    "except:\n",
    "    # the file does not exist\n",
    "    df.to_csv(f'ARSO_{data_type}.csv', mode='w', index=False, header=True)\n",
    "    "
   ]
  }
 ],
 "metadata": {
  "kernelspec": {
   "display_name": "Python 3",
   "language": "python",
   "name": "python3"
  },
  "language_info": {
   "codemirror_mode": {
    "name": "ipython",
    "version": 3
   },
   "file_extension": ".py",
   "mimetype": "text/x-python",
   "name": "python",
   "nbconvert_exporter": "python",
   "pygments_lexer": "ipython3",
   "version": "3.7.3"
  }
 },
 "nbformat": 4,
 "nbformat_minor": 2
}
