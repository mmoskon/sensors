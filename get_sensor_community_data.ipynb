{
 "cells": [
  {
   "cell_type": "code",
   "execution_count": 7,
   "metadata": {},
   "outputs": [],
   "source": [
    "import requests\n",
    "import re\n",
    "import pandas as pd\n",
    "import os"
   ]
  },
  {
   "cell_type": "code",
   "execution_count": 2,
   "metadata": {},
   "outputs": [],
   "source": [
    "dates = [\"2022-10-23\"]\n",
    "sensor_ids = [\"74650\"]\n",
    "url_sc = 'https://archive.sensor.community'"
   ]
  },
  {
   "cell_type": "code",
   "execution_count": 5,
   "metadata": {},
   "outputs": [
    {
     "name": "stdout",
     "output_type": "stream",
     "text": [
      "2022-10-23_sds011_sensor_74650.csv\n"
     ]
    }
   ],
   "source": [
    "#date = dates[0]\n",
    "#sensor_id = sensor_ids[0]\n",
    "df = 0\n",
    "\n",
    "for date in dates:\n",
    "    url = \"/\".join([url_sc,date])\n",
    "    r1 = requests.get(url)\n",
    "    data = r1.text\n",
    "    for sensor_id in sensor_ids:   \n",
    "        start = re.escape(date)\n",
    "        #start = re.escape(f'{sensor_id}.csv\">')\n",
    "        end   = re.escape(f'{sensor_id}.csv') \n",
    "        result = re.search('%s(.*)%s' % (start, end), data).group(0)\n",
    "        result=result.split(\">\")[1]\n",
    "        print(result)\n",
    "\n",
    "        url_csv = \"/\".join([url, result])\n",
    "        #url_csv\n",
    "        #r2 = requests.get(url_csv)\n",
    "        #r2.text\n",
    "        \n",
    "        df2 = pd.read_csv(url_csv, sep=\";\")\n",
    "        if type(df) == int:\n",
    "            df = df2\n",
    "        else:\n",
    "            df = pd.concat([df, df2])\n",
    "        \n",
    "        "
   ]
  },
  {
   "cell_type": "code",
   "execution_count": 8,
   "metadata": {},
   "outputs": [],
   "source": [
    "df.to_csv(os.path.join(\"data\", \"sensor_com_export.csv\"))"
   ]
  },
  {
   "cell_type": "code",
   "execution_count": null,
   "metadata": {},
   "outputs": [],
   "source": [
    "\"\"\"\n",
    "for sensor_id in sensor_ids:\n",
    "    for date in dates:\n",
    "        url_ok = url_deb + date\n",
    "        r1 = requests.get(url_ok)\n",
    "        source_code = r1.text\n",
    "\n",
    "        for n2 in range(0,len(sensor_id)):\n",
    "            test = 'sensor_'+str(sensor_id[n2])+'.csv'\n",
    "\n",
    "            if test in source_code:\n",
    "                split1 = source_code.split(test)[0]\n",
    "                split2 = split1.split('<a href=\"')[-1]\n",
    "                url_fin = url_ok + '/' + split2 + test\n",
    "                r2 = requests.get(url_fin)\n",
    "                data = r2.text\n",
    "                #Les données vont s'afficher dans le terminal. \n",
    "                print(data)\n",
    "\"\"\""
   ]
  }
 ],
 "metadata": {
  "kernelspec": {
   "display_name": "Python 3",
   "language": "python",
   "name": "python3"
  },
  "language_info": {
   "codemirror_mode": {
    "name": "ipython",
    "version": 3
   },
   "file_extension": ".py",
   "mimetype": "text/x-python",
   "name": "python",
   "nbconvert_exporter": "python",
   "pygments_lexer": "ipython3",
   "version": "3.7.3"
  }
 },
 "nbformat": 4,
 "nbformat_minor": 2
}
