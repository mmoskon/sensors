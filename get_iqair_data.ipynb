{
 "cells": [
  {
   "cell_type": "code",
   "execution_count": 55,
   "metadata": {},
   "outputs": [],
   "source": [
    "import requests\n",
    "import re\n",
    "import pandas as pd\n",
    "import os\n",
    "import json\n",
    "import requests\n",
    "import time"
   ]
  },
  {
   "cell_type": "code",
   "execution_count": 6,
   "metadata": {},
   "outputs": [],
   "source": [
    "# https://api-docs.iqair.com/\n",
    "# https://www.iqair.com/commercial/air-quality-monitors/airvisual-platform/api"
   ]
  },
  {
   "cell_type": "markdown",
   "metadata": {},
   "source": [
    "# Limitations\n",
    "\n",
    "Free plan only supports live data; enterprise plan supports historical data for up to two days, 10,000 calls/month, 5 calls per minute"
   ]
  },
  {
   "cell_type": "code",
   "execution_count": 21,
   "metadata": {},
   "outputs": [],
   "source": [
    "with open('api_keys.json') as f:\n",
    "    API_KEY = json.loads(f.read())['iqair']"
   ]
  },
  {
   "cell_type": "markdown",
   "metadata": {},
   "source": [
    "### Get nearest city data"
   ]
  },
  {
   "cell_type": "code",
   "execution_count": 22,
   "metadata": {},
   "outputs": [
    {
     "name": "stdout",
     "output_type": "stream",
     "text": [
      "{\"status\":\"success\",\"data\":{\"city\":\"Ljubljana\",\"state\":\"Osrednjeslovenska\",\"country\":\"Slovenia\",\"location\":{\"type\":\"Point\",\"coordinates\":[14.461887,46.066215]},\"current\":{\"pollution\":{\"ts\":\"2022-11-10T12:00:00.000Z\",\"aqius\":16,\"mainus\":\"o3\",\"aqicn\":17,\"maincn\":\"n2\"},\"weather\":{\"ts\":\"2022-11-10T13:00:00.000Z\",\"tp\":11,\"pr\":1028,\"hu\":93,\"ws\":0.3,\"wd\":149,\"ic\":\"10d\"}}}}\n"
     ]
    }
   ],
   "source": [
    "url=f\"http://api.airvisual.com/v2/nearest_city?key={API_KEY}\"\n",
    "try:\n",
    "    r = requests.get(url)\n",
    "    data = r.text\n",
    "    print(data)        \n",
    "except:\n",
    "    print(f\"Something went wrong.\")"
   ]
  },
  {
   "cell_type": "markdown",
   "metadata": {},
   "source": [
    "### Get cities in a country data"
   ]
  },
  {
   "cell_type": "code",
   "execution_count": null,
   "metadata": {},
   "outputs": [],
   "source": [
    "country = \"Slovenia\""
   ]
  },
  {
   "cell_type": "markdown",
   "metadata": {},
   "source": [
    "First get states for a country"
   ]
  },
  {
   "cell_type": "code",
   "execution_count": 45,
   "metadata": {},
   "outputs": [
    {
     "name": "stdout",
     "output_type": "stream",
     "text": [
      "[{'state': 'Borovnica'}, {'state': 'Dolenjska'}, {'state': 'Gorenjska'}, {'state': 'Kanal'}, {'state': 'Kranj'}, {'state': 'Novo Mesto'}, {'state': 'Obalno-kraska'}, {'state': 'Osrednjeslovenska'}, {'state': 'Podravska'}, {'state': 'Pomurska'}, {'state': 'Ptuj'}, {'state': 'Savinjska'}, {'state': 'Zasavska'}]\n"
     ]
    }
   ],
   "source": [
    "url=f\"http://api.airvisual.com/v2/states?country={country}&key={API_KEY}\"\n",
    "try:\n",
    "    r = requests.get(url)\n",
    "    data = json.loads(r.text)['data']\n",
    "    states = []\n",
    "    for d in data:\n",
    "        states.append(d['state'])       \n",
    "except:\n",
    "    print(f\"Something went wrong.\")"
   ]
  },
  {
   "cell_type": "markdown",
   "metadata": {},
   "source": [
    "Then get cities for each state"
   ]
  },
  {
   "cell_type": "code",
   "execution_count": 61,
   "metadata": {},
   "outputs": [
    {
     "name": "stdout",
     "output_type": "stream",
     "text": [
      "[{'city': 'Borovnica'}]\n",
      "[{'city': 'Kromberk'}, {'city': 'Nova Gorica'}, {'city': 'Solkan'}]\n",
      "{'message': 'state_not_found'}\n",
      "Something went wrong for Gorenjska.\n",
      "{'message': 'state_not_found'}\n",
      "Something went wrong for Kanal.\n",
      "[{'city': 'Britof'}]\n",
      "[{'city': 'Novo Mesto'}]\n",
      "{'message': 'state_not_found'}\n",
      "Something went wrong for Obalno-kraska.\n",
      "[{'city': 'Ljubljana'}]\n",
      "[{'city': 'Maribor'}]\n",
      "[{'city': 'Murska Sobota'}, {'city': 'Rakican'}]\n",
      "[{'city': 'Ptuj'}]\n",
      "[{'city': 'Celje'}, {'city': 'Trnovlje pri Celju'}]\n",
      "[{'city': 'Hrastnik'}, {'city': 'Trbovlje'}, {'city': 'Zagorje'}]\n"
     ]
    }
   ],
   "source": [
    "cities = []\n",
    "for state in states:\n",
    "\n",
    "    try:\n",
    "        url=f\"http://api.airvisual.com/v2/cities?state={state}&country={country}&key={API_KEY}\"\n",
    "        r = requests.get(url)\n",
    "        data = json.loads(r.text)['data']\n",
    "        print(data)\n",
    "        time.sleep(12)\n",
    "        for d in data:\n",
    "            city = d['city']\n",
    "            cities.append((country, state, city))\n",
    "        \n",
    "        #states = []\n",
    "        #for d in data:\n",
    "        #    states.append(d['state'])      \n",
    "    except:\n",
    "        print(f\"Something went wrong for {state}.\")"
   ]
  },
  {
   "cell_type": "code",
   "execution_count": 63,
   "metadata": {},
   "outputs": [],
   "source": [
    "f = open(\"cities_iqair.txt\", 'w')\n",
    "print(cities, file=f)\n",
    "f.close()"
   ]
  },
  {
   "cell_type": "markdown",
   "metadata": {},
   "source": [
    "### Get specified cities data"
   ]
  },
  {
   "cell_type": "code",
   "execution_count": 64,
   "metadata": {},
   "outputs": [],
   "source": [
    "cities = [(\"Ljubljana\", \"Osrednjeslovenska\", \"Slovenia\"),\n",
    "         ]"
   ]
  },
  {
   "cell_type": "code",
   "execution_count": 65,
   "metadata": {},
   "outputs": [
    {
     "name": "stdout",
     "output_type": "stream",
     "text": [
      "{\"status\":\"success\",\"data\":{\"city\":\"Ljubljana\",\"state\":\"Osrednjeslovenska\",\"country\":\"Slovenia\",\"location\":{\"type\":\"Point\",\"coordinates\":[14.461887,46.066215]},\"current\":{\"pollution\":{\"ts\":\"2022-11-10T13:00:00.000Z\",\"aqius\":15,\"mainus\":\"o3\",\"aqicn\":16,\"maincn\":\"n2\"},\"weather\":{\"ts\":\"2022-11-10T13:00:00.000Z\",\"tp\":11,\"pr\":1028,\"hu\":93,\"ws\":0.3,\"wd\":149,\"ic\":\"10d\"}}}}\n"
     ]
    }
   ],
   "source": [
    "for city, state, country in cities:\n",
    "    url=f\"http://api.airvisual.com/v2/city?city={city}&state={state}&country={country}&key={API_KEY}\"\n",
    "    try:\n",
    "        r = requests.get(url)\n",
    "        data = r.text\n",
    "        print(data)        \n",
    "    except:\n",
    "        print(f\"Something went wrong for {city}.\")"
   ]
  },
  {
   "cell_type": "code",
   "execution_count": null,
   "metadata": {},
   "outputs": [],
   "source": []
  }
 ],
 "metadata": {
  "kernelspec": {
   "display_name": "Python 3",
   "language": "python",
   "name": "python3"
  },
  "language_info": {
   "codemirror_mode": {
    "name": "ipython",
    "version": 3
   },
   "file_extension": ".py",
   "mimetype": "text/x-python",
   "name": "python",
   "nbconvert_exporter": "python",
   "pygments_lexer": "ipython3",
   "version": "3.7.3"
  }
 },
 "nbformat": 4,
 "nbformat_minor": 2
}
